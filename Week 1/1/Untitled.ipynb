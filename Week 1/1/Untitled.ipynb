{
 "cells": [
  {
   "cell_type": "code",
   "execution_count": 1,
   "metadata": {},
   "outputs": [
    {
     "name": "stdout",
     "output_type": "stream",
     "text": [
      "13\n",
      "-1\n",
      "42\n",
      "0.8571428571428571\n"
     ]
    }
   ],
   "source": [
    "def calcu(a,b):\n",
    "    val1=a\n",
    "    val2=b\n",
    "    addition=val1+val2\n",
    "    print(addition)\n",
    "    subtraction=val1-val2\n",
    "    print(subtraction)\n",
    "    mul=val1*val2\n",
    "    print(mul)\n",
    "    divide=val1/val2\n",
    "    print(divide)\n",
    "calcu(6,7)"
   ]
  },
  {
   "cell_type": "code",
   "execution_count": 2,
   "metadata": {},
   "outputs": [
    {
     "name": "stdout",
     "output_type": "stream",
     "text": [
      "flag is true\n"
     ]
    },
    {
     "data": {
      "text/plain": [
       "10"
      ]
     },
     "execution_count": 2,
     "metadata": {},
     "output_type": "execute_result"
    }
   ],
   "source": [
    "def addnum(x,y,z=None,flag=False):\n",
    "    if(flag):\n",
    "        print(\"flag is true\")\n",
    "        return x+y\n",
    "    else: return x+y+z\n",
    "addnum(4,6,flag=True)"
   ]
  },
  {
   "cell_type": "code",
   "execution_count": null,
   "metadata": {},
   "outputs": [],
   "source": []
  }
 ],
 "metadata": {
  "kernelspec": {
   "display_name": "Python 3",
   "language": "python",
   "name": "python3"
  },
  "language_info": {
   "codemirror_mode": {
    "name": "ipython",
    "version": 3
   },
   "file_extension": ".py",
   "mimetype": "text/x-python",
   "name": "python",
   "nbconvert_exporter": "python",
   "pygments_lexer": "ipython3",
   "version": "3.8.3"
  }
 },
 "nbformat": 4,
 "nbformat_minor": 4
}
