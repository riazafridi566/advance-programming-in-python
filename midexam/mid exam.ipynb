{
 "cells": [
  {
   "cell_type": "code",
   "execution_count": null,
   "metadata": {},
   "outputs": [],
   "source": [
    "#Q6\n",
    "def Reverse(lst):\n",
    "    new_lst = lst[::-1]\n",
    "    return new_lst\n",
    "      \n",
    "lst = [10, 11, 12, 13, 14, 15]\n",
    "print(Reverse(lst))"
   ]
  },
  {
   "cell_type": "code",
   "execution_count": null,
   "metadata": {},
   "outputs": [],
   "source": [
    "#Q3Factorial\n",
    "num=int(input(\"enter numbers\"))\n",
    "fact=1\n",
    "if num<0:\n",
    "    print(\"sorry\")\n",
    "elif num==0:\n",
    "    print(\"consider one\")\n",
    "else:\n",
    "     for i in range(1,num+1)\n",
    "        fact=fact*i\n",
    "        print(num,fact)"
   ]
  },
  {
   "cell_type": "code",
   "execution_count": null,
   "metadata": {},
   "outputs": [],
   "source": [
    "#Q4\n",
    "a=input(\"enter the characers\")\n",
    "if a==\"A\" or a==\"a\":\n",
    "    print(\"its vowel\")\n",
    "else:\n",
    "    print(\"its consunant\")"
   ]
  },
  {
   "cell_type": "code",
   "execution_count": null,
   "metadata": {},
   "outputs": [],
   "source": [
    "#Q1palindrome\n",
    "def palindrome(s):\n",
    "    return s==s[::-1]\n",
    "s=\"Dad\"\n",
    "b=palindrome(s)\n",
    "if b:\n",
    "    print(\"yes dad is palindrome\")\n",
    "else:\n",
    "    print(\"no\")"
   ]
  },
  {
   "cell_type": "code",
   "execution_count": null,
   "metadata": {},
   "outputs": [],
   "source": [
    "#Q2\n",
    "a=input(\"enter the string\")\n",
    "print(name[::-1])"
   ]
  }
 ],
 "metadata": {
  "kernelspec": {
   "display_name": "Python 3",
   "language": "python",
   "name": "python3"
  },
  "language_info": {
   "codemirror_mode": {
    "name": "ipython",
    "version": 3
   },
   "file_extension": ".py",
   "mimetype": "text/x-python",
   "name": "python",
   "nbconvert_exporter": "python",
   "pygments_lexer": "ipython3",
   "version": "3.8.3"
  }
 },
 "nbformat": 4,
 "nbformat_minor": 4
}
