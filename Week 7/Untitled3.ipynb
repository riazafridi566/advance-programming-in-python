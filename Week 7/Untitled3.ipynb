{
 "cells": [
  {
   "cell_type": "code",
   "execution_count": 10,
   "metadata": {},
   "outputs": [],
   "source": [
    "import numpy as np\n",
    "import matplotlib.pyplot as plt"
   ]
  },
  {
   "cell_type": "code",
   "execution_count": 11,
   "metadata": {},
   "outputs": [
    {
     "data": {
      "text/plain": [
       "{'whiskers': [<matplotlib.lines.Line2D at 0x21aa0ca0fa0>,\n",
       "  <matplotlib.lines.Line2D at 0x21aa0cae340>],\n",
       " 'caps': [<matplotlib.lines.Line2D at 0x21aa0cae6a0>,\n",
       "  <matplotlib.lines.Line2D at 0x21aa0caea00>],\n",
       " 'boxes': [<matplotlib.lines.Line2D at 0x21aa0ca0ca0>],\n",
       " 'medians': [<matplotlib.lines.Line2D at 0x21aa0caed60>],\n",
       " 'fliers': [<matplotlib.lines.Line2D at 0x21aa0cba0a0>],\n",
       " 'means': []}"
      ]
     },
     "execution_count": 11,
     "metadata": {},
     "output_type": "execute_result"
    },
    {
     "data": {
      "image/png": "[encoded data removed]",
      "text/plain": [
       "<Figure size 432x288 with 1 Axes>"
      ]
     },
     "metadata": {
      "needs_background": "light"
     },
     "output_type": "display_data"
    }
   ],
   "source": [
    "n=np.random.normal(1,100,100)\n",
    "plt.boxplot(n)"
   ]
  },
  {
   "cell_type": "code",
   "execution_count": null,
   "metadata": {},
   "outputs": [],
   "source": []
  }
 ],
 "metadata": {
  "kernelspec": {
   "display_name": "Python 3",
   "language": "python",
   "name": "python3"
  },
  "language_info": {
   "codemirror_mode": {
    "name": "ipython",
    "version": 3
   },
   "file_extension": ".py",
   "mimetype": "text/x-python",
   "name": "python",
   "nbconvert_exporter": "python",
   "pygments_lexer": "ipython3",
   "version": "3.8.3"
  }
 },
 "nbformat": 4,
 "nbformat_minor": 4
}
