{
 "cells": [
  {
   "cell_type": "code",
   "execution_count": 1,
   "metadata": {},
   "outputs": [],
   "source": [
    "import pandas as pd"
   ]
  },
  {
   "cell_type": "code",
   "execution_count": 2,
   "metadata": {},
   "outputs": [
    {
     "name": "stdout",
     "output_type": "stream",
     "text": [
      "   S.no    Name  Mobile Gender Section\n",
      "0     0    Eman     343      F       A\n",
      "1     1   Ramna     453      F       C\n",
      "2     2  Zainab     234      F       A\n",
      "3     3   Maria     123      F       C\n",
      "4     4   Laiba     334      F       A\n"
     ]
    }
   ],
   "source": [
    "import pandas as pd\n",
    "data={\n",
    "    \"S.no\":[0,1,2,3,4],\n",
    "    \"Name\":[\"Eman\",\"Ramna\",\"Zainab\",\"Maria\",\"Laiba\"],\n",
    "    \"Mobile\":[343,453,234,123,334],\n",
    "    \"Gender\":[\"F\",\"F\",\"F\",\"F\",\"F\"],\n",
    "    \"Section\":[\"A\",\"C\",\"A\",\"C\",\"A\"]\n",
    "}\n",
    "#Load data into a Data Frame object:\n",
    "df=pd.DataFrame(data)\n",
    "print(df)"
   ]
  },
  {
   "cell_type": "code",
   "execution_count": 4,
   "metadata": {},
   "outputs": [
    {
     "ename": "TypeError",
     "evalue": "'Index' object is not callable",
     "output_type": "error",
     "traceback": [
      "\u001b[1;31m---------------------------------------------------------------------------\u001b[0m",
      "\u001b[1;31mTypeError\u001b[0m                                 Traceback (most recent call last)",
      "\u001b[1;32m<ipython-input-4-d66ddf440101>\u001b[0m in \u001b[0;36m<module>\u001b[1;34m\u001b[0m\n\u001b[0;32m      9\u001b[0m \u001b[1;31m#Load data into a Data Frame object:\u001b[0m\u001b[1;33m\u001b[0m\u001b[1;33m\u001b[0m\u001b[1;33m\u001b[0m\u001b[0m\n\u001b[0;32m     10\u001b[0m \u001b[0mdf\u001b[0m\u001b[1;33m=\u001b[0m\u001b[0mpd\u001b[0m\u001b[1;33m.\u001b[0m\u001b[0mDataFrame\u001b[0m\u001b[1;33m(\u001b[0m\u001b[0mdata\u001b[0m\u001b[1;33m)\u001b[0m\u001b[1;33m\u001b[0m\u001b[1;33m\u001b[0m\u001b[0m\n\u001b[1;32m---> 11\u001b[1;33m \u001b[0mdf\u001b[0m\u001b[1;33m.\u001b[0m\u001b[0mcolumns\u001b[0m\u001b[1;33m(\u001b[0m\u001b[1;33m[\u001b[0m\u001b[1;34m\"Mobile\"\u001b[0m\u001b[1;33m]\u001b[0m\u001b[1;33m)\u001b[0m\u001b[1;33m\u001b[0m\u001b[1;33m\u001b[0m\u001b[0m\n\u001b[0m\u001b[0;32m     12\u001b[0m \u001b[1;31m#print(df.loc[[0]])\u001b[0m\u001b[1;33m\u001b[0m\u001b[1;33m\u001b[0m\u001b[1;33m\u001b[0m\u001b[0m\n",
      "\u001b[1;31mTypeError\u001b[0m: 'Index' object is not callable"
     ]
    }
   ],
   "source": [
    "import pandas as pd\n",
    "data={\n",
    "    \"S.no\":[0,1,2,3,4],\n",
    "    \"Name\":[\"Eman\",\"Ramna\",\"Zainab\",\"Maria\",\"Laiba\"],\n",
    "    \"Mobile\":[343,453,234,123,334],\n",
    "    \"Gender\":[\"F\",\"F\",\"F\",\"F\",\"F\"],\n",
    "    \"Section\":[\"A\",\"C\",\"A\",\"C\",\"A\"]\n",
    "}\n",
    "#Load data into a Data Frame object:\n",
    "df=pd.DataFrame(data)\n",
    "#print(df.loc[[0]])"
   ]
  },
  {
   "cell_type": "code",
   "execution_count": 4,
   "metadata": {},
   "outputs": [
    {
     "name": "stdout",
     "output_type": "stream",
     "text": [
      "   S.no   Name  Mobile Gender Section\n",
      "0     0   Eman     343      F       A\n",
      "1     1  Ramna     453      F       C\n"
     ]
    }
   ],
   "source": [
    "import pandas as pd\n",
    "data={\n",
    "    \"S.no\":[0,1,2,3,4],\n",
    "    \"Name\":[\"Eman\",\"Ramna\",\"Zainab\",\"Maria\",\"Laiba\"],\n",
    "    \"Mobile\":[343,453,234,123,334],\n",
    "    \"Gender\":[\"F\",\"F\",\"F\",\"F\",\"F\"],\n",
    "    \"Section\":[\"A\",\"C\",\"A\",\"C\",\"A\"]\n",
    "}\n",
    "#Load data into a Data Frame object:\n",
    "df=pd.DataFrame(data)\n",
    "print(df.loc[[0,1]])"
   ]
  },
  {
   "cell_type": "code",
   "execution_count": null,
   "metadata": {},
   "outputs": [],
   "source": []
  }
 ],
 "metadata": {
  "kernelspec": {
   "display_name": "Python 3",
   "language": "python",
   "name": "python3"
  },
  "language_info": {
   "codemirror_mode": {
    "name": "ipython",
    "version": 3
   },
   "file_extension": ".py",
   "mimetype": "text/x-python",
   "name": "python",
   "nbconvert_exporter": "python",
   "pygments_lexer": "ipython3",
   "version": "3.8.3"
  }
 },
 "nbformat": 4,
 "nbformat_minor": 2
}
